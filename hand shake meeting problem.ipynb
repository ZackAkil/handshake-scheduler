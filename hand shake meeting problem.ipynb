{
 "cells": [
  {
   "cell_type": "code",
   "execution_count": 2,
   "metadata": {
    "collapsed": true
   },
   "outputs": [],
   "source": [
    "def add_group(slot, group):\n",
    "    slot.add(tuple(sorted(group)))"
   ]
  },
  {
   "cell_type": "code",
   "execution_count": 3,
   "metadata": {
    "collapsed": true
   },
   "outputs": [],
   "source": [
    "def rotate_once(a,b):\n",
    "    b.insert(0,a[1])\n",
    "    a.remove(a[1])\n",
    "    a.append(b[-1])\n",
    "    b.remove(b[-1])"
   ]
  },
  {
   "cell_type": "code",
   "execution_count": 4,
   "metadata": {
    "collapsed": true
   },
   "outputs": [],
   "source": [
    "def print_no_one_if_x(val, x):\n",
    "    return val if val != x else 'no-one'"
   ]
  },
  {
   "cell_type": "code",
   "execution_count": 5,
   "metadata": {
    "collapsed": true
   },
   "outputs": [],
   "source": [
    "def print_round(a,b,replace_with_noone = None):\n",
    "    round = list(zip(a,b))\n",
    "    if replace_with_noone is None:\n",
    "        for g in round:\n",
    "            print('{0} meets {1}'.format(g[0], g[1])) \n",
    "    else:\n",
    "        for g in round:\n",
    "            print('{0} meets {1}'.format(print_no_one_if_x(g[0],replace_with_noone), \n",
    "                                         print_no_one_if_x(g[1],replace_with_noone)))"
   ]
  },
  {
   "cell_type": "code",
   "execution_count": 6,
   "metadata": {
    "collapsed": true
   },
   "outputs": [],
   "source": [
    "def is_odd(num):\n",
    "    return bool(num%2)"
   ]
  },
  {
   "cell_type": "code",
   "execution_count": 7,
   "metadata": {
    "collapsed": true
   },
   "outputs": [],
   "source": [
    "def gen_hand_shake_schedual(num_people):\n",
    "    \n",
    "    odd_flag = is_odd(num_people)\n",
    "    \n",
    "    correct_num_people = num_people if not odd_flag else (num_people+1)\n",
    "    \n",
    "    first_list_index = int(correct_num_people/2)\n",
    "    \n",
    "    alist = list(range(first_list_index))\n",
    "    blist = list(range(first_list_index, first_list_index*2))\n",
    "    \n",
    "    x = set()\n",
    "    for a in range(correct_num_people-1):\n",
    "        rotate_once(alist,blist)\n",
    "        print ('--- Round {0} ---'.format(a+1))\n",
    "        if not odd_flag:\n",
    "            print_round(alist, blist)\n",
    "        else:\n",
    "            print_round(alist, blist, replace_with_noone = correct_num_people-1)\n",
    "        o = list(zip(alist,blist))\n",
    "        for g in o:\n",
    "            add_group(x,g)\n",
    "    return x"
   ]
  },
  {
   "cell_type": "code",
   "execution_count": 9,
   "metadata": {},
   "outputs": [
    {
     "name": "stdout",
     "output_type": "stream",
     "text": [
      "--- Round 1 ---\n",
      "0 meets 1\n",
      "2 meets 5\n",
      "3 meets 6\n",
      "4 meets 7\n",
      "9 meets 8\n",
      "--- Round 2 ---\n",
      "0 meets 2\n",
      "3 meets 1\n",
      "4 meets 5\n",
      "9 meets 6\n",
      "8 meets 7\n",
      "--- Round 3 ---\n",
      "0 meets 3\n",
      "4 meets 2\n",
      "9 meets 1\n",
      "8 meets 5\n",
      "7 meets 6\n",
      "--- Round 4 ---\n",
      "0 meets 4\n",
      "9 meets 3\n",
      "8 meets 2\n",
      "7 meets 1\n",
      "6 meets 5\n",
      "--- Round 5 ---\n",
      "0 meets 9\n",
      "8 meets 4\n",
      "7 meets 3\n",
      "6 meets 2\n",
      "5 meets 1\n",
      "--- Round 6 ---\n",
      "0 meets 8\n",
      "7 meets 9\n",
      "6 meets 4\n",
      "5 meets 3\n",
      "1 meets 2\n",
      "--- Round 7 ---\n",
      "0 meets 7\n",
      "6 meets 8\n",
      "5 meets 9\n",
      "1 meets 4\n",
      "2 meets 3\n",
      "--- Round 8 ---\n",
      "0 meets 6\n",
      "5 meets 7\n",
      "1 meets 8\n",
      "2 meets 9\n",
      "3 meets 4\n",
      "--- Round 9 ---\n",
      "0 meets 5\n",
      "1 meets 6\n",
      "2 meets 7\n",
      "3 meets 8\n",
      "4 meets 9\n"
     ]
    },
    {
     "data": {
      "text/plain": [
       "{(0, 1),\n",
       " (0, 2),\n",
       " (0, 3),\n",
       " (0, 4),\n",
       " (0, 5),\n",
       " (0, 6),\n",
       " (0, 7),\n",
       " (0, 8),\n",
       " (0, 9),\n",
       " (1, 2),\n",
       " (1, 3),\n",
       " (1, 4),\n",
       " (1, 5),\n",
       " (1, 6),\n",
       " (1, 7),\n",
       " (1, 8),\n",
       " (1, 9),\n",
       " (2, 3),\n",
       " (2, 4),\n",
       " (2, 5),\n",
       " (2, 6),\n",
       " (2, 7),\n",
       " (2, 8),\n",
       " (2, 9),\n",
       " (3, 4),\n",
       " (3, 5),\n",
       " (3, 6),\n",
       " (3, 7),\n",
       " (3, 8),\n",
       " (3, 9),\n",
       " (4, 5),\n",
       " (4, 6),\n",
       " (4, 7),\n",
       " (4, 8),\n",
       " (4, 9),\n",
       " (5, 6),\n",
       " (5, 7),\n",
       " (5, 8),\n",
       " (5, 9),\n",
       " (6, 7),\n",
       " (6, 8),\n",
       " (6, 9),\n",
       " (7, 8),\n",
       " (7, 9),\n",
       " (8, 9)}"
      ]
     },
     "execution_count": 9,
     "metadata": {},
     "output_type": "execute_result"
    }
   ],
   "source": [
    "gen_hand_shake_schedual(10)"
   ]
  },
  {
   "cell_type": "code",
   "execution_count": null,
   "metadata": {
    "collapsed": true
   },
   "outputs": [],
   "source": []
  }
 ],
 "metadata": {
  "anaconda-cloud": {},
  "kernelspec": {
   "display_name": "Python [default]",
   "language": "python",
   "name": "python3"
  },
  "language_info": {
   "codemirror_mode": {
    "name": "ipython",
    "version": 3
   },
   "file_extension": ".py",
   "mimetype": "text/x-python",
   "name": "python",
   "nbconvert_exporter": "python",
   "pygments_lexer": "ipython3",
   "version": "3.5.3"
  }
 },
 "nbformat": 4,
 "nbformat_minor": 1
}
